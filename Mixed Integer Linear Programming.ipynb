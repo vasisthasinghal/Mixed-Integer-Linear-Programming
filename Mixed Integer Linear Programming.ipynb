{
 "cells": [
  {
   "cell_type": "code",
   "execution_count": 2,
   "metadata": {},
   "outputs": [],
   "source": [
    "from ortools.linear_solver import pywraplp"
   ]
  },
  {
   "cell_type": "code",
   "execution_count": 3,
   "metadata": {},
   "outputs": [],
   "source": [
    "solver = pywraplp.Solver('simple_mip_program',\n",
    "                         pywraplp.Solver.CBC_MIXED_INTEGER_PROGRAMMING)"
   ]
  },
  {
   "cell_type": "code",
   "execution_count": 4,
   "metadata": {},
   "outputs": [],
   "source": [
    "inf = solver.infinity()"
   ]
  },
  {
   "cell_type": "code",
   "execution_count": 5,
   "metadata": {},
   "outputs": [],
   "source": [
    "# Solution for the Electric Generator Case Study\n",
    "y11 = solver.IntVar(0,1, 'y11')\n",
    "y12 = solver.IntVar(0,1, 'y12')\n",
    "y21 = solver.IntVar(0,1, 'y21')\n",
    "y22 = solver.IntVar(0,1, 'y22')\n",
    "y31 = solver.IntVar(0,1, 'y31')\n",
    "y32 = solver.IntVar(0,1, 'y32')\n",
    "\n",
    "x11 = solver.NumVar(0, inf, 'x11')\n",
    "x12 = solver.NumVar(0, inf, 'x12')\n",
    "x21 = solver.NumVar(0, inf, 'x21')\n",
    "x22 = solver.NumVar(0, inf, 'x22')\n",
    "x31 = solver.NumVar(0, inf, 'x31')\n",
    "x32 = solver.NumVar(0, inf, 'x32')"
   ]
  },
  {
   "cell_type": "code",
   "execution_count": 10,
   "metadata": {},
   "outputs": [
    {
     "data": {
      "text/plain": [
       "<ortools.linear_solver.pywraplp.Constraint; proxy of <Swig Object of type 'operations_research::MPConstraint *' at 0x00000276A84984E0> >"
      ]
     },
     "execution_count": 10,
     "metadata": {},
     "output_type": "execute_result"
    }
   ],
   "source": [
    "# Adding constraints to the problem \n",
    "\n",
    "solver.Add(x11 + x21 + x31 == 2500)\n",
    "solver.Add(x12+x22+x32 == 3500)\n",
    "\n",
    "solver.Add(y11+y12 <= 1)\n",
    "solver.Add(y21+y22 <= 1)\n",
    "solver.Add(y31+y32 <= 1)\n",
    "\n",
    "solver.Add(x11 <= 1900*y11)\n",
    "solver.Add(x21 <= 1700*y21)\n",
    "solver.Add(x31 <= 2900*y31)\n",
    "\n",
    "solver.Add(x12 <= 1900*(y11+y12))\n",
    "solver.Add(x22 <= 1700*(y21+y22))\n",
    "solver.Add(x32 <= 2900*(y31+y32))"
   ]
  },
  {
   "cell_type": "code",
   "execution_count": 12,
   "metadata": {},
   "outputs": [],
   "source": [
    "solver.Minimize(5*(x11+x12)+3*(x21+x22)+8*(x31+x32)+2800*(y11+y12)+2000*(y21+y22)+1900*(y31+y32))"
   ]
  },
  {
   "cell_type": "code",
   "execution_count": 13,
   "metadata": {},
   "outputs": [],
   "source": [
    "status = solver.Solve()"
   ]
  },
  {
   "cell_type": "code",
   "execution_count": 17,
   "metadata": {},
   "outputs": [
    {
     "name": "stdout",
     "output_type": "stream",
     "text": [
      "Solution:\n",
      "Objective value = 28000.0\n",
      "x11 = 800.0\n",
      "x12 = 1800.0\n",
      "x21 = 1700.0000000000002\n",
      "x22 = 1700.0000000000002\n",
      "x31 = 0.0\n",
      "x32 = 0.0\n",
      "y11 = 1.0\n",
      "y12 = 0.0\n",
      "y21 = 1.0\n",
      "y22 = 0.0\n",
      "y31 = 0.0\n",
      "y32 = 0.0\n"
     ]
    }
   ],
   "source": [
    "if status == pywraplp.Solver.OPTIMAL:\n",
    "        print('Solution:')\n",
    "        print('Objective value =', solver.Objective().Value())\n",
    "        print('x11 =', x11.solution_value())\n",
    "        print('x12 =', x12.solution_value())\n",
    "        print('x21 =', x21.solution_value())\n",
    "        print('x22 =', x22.solution_value())\n",
    "        print('x31 =', x31.solution_value())\n",
    "        print('x32 =', x32.solution_value())\n",
    "        print('y11 =', y11.solution_value())\n",
    "        print('y12 =', y12.solution_value())\n",
    "        print('y21 =', y21.solution_value())\n",
    "        print('y22 =', y22.solution_value())\n",
    "        print('y31 =', y31.solution_value())\n",
    "        print('y32 =', y32.solution_value())"
   ]
  },
  {
   "cell_type": "code",
   "execution_count": 4,
   "metadata": {},
   "outputs": [],
   "source": [
    "# Solution for the PMU Sensor Placement - IEEE 14 Bus System \n",
    "\n",
    "y1 = solver.IntVar(0,1, 'y1')\n",
    "y2 = solver.IntVar(0,1, 'y2')\n",
    "y3 = solver.IntVar(0,1, 'y3')\n",
    "y4 = solver.IntVar(0,1, 'y4')\n",
    "y5 = solver.IntVar(0,1, 'y5')\n",
    "y6 = solver.IntVar(0,1, 'y6')\n",
    "y7 = solver.IntVar(0,1, 'y7')\n",
    "y8 = solver.IntVar(0,1, 'y8')\n",
    "y9 = solver.IntVar(0,1, 'y9')\n",
    "y10 = solver.IntVar(0,1, 'y10')\n",
    "y11 = solver.IntVar(0,1, 'y11')\n",
    "y12 = solver.IntVar(0,1, 'y12')\n",
    "y13 = solver.IntVar(0,1, 'y13')\n",
    "y14 = solver.IntVar(0,1, 'y14')"
   ]
  },
  {
   "cell_type": "code",
   "execution_count": 5,
   "metadata": {},
   "outputs": [
    {
     "data": {
      "text/plain": [
       "<ortools.linear_solver.pywraplp.Constraint; proxy of <Swig Object of type 'operations_research::MPConstraint *' at 0x000002B777CF8690> >"
      ]
     },
     "execution_count": 5,
     "metadata": {},
     "output_type": "execute_result"
    }
   ],
   "source": [
    "solver.Add(y1+y2+y5>=1)\n",
    "solver.Add(y1+y2+y3+y4+y5>=1)\n",
    "solver.Add(y3+y2+y4>=1)\n",
    "solver.Add(y3+y2+y4+y5+y7+y9>=1)\n",
    "solver.Add(y1+y2+y4+y5>=1)\n",
    "solver.Add(y6+y12+y11+y13>=1)\n",
    "solver.Add(y4+y7+y8+y9>=1)\n",
    "solver.Add(y7+y8>=1)\n",
    "solver.Add(y4+y7+y9+y10+y14>=1)\n",
    "solver.Add(y11+y10+y9>=1)\n",
    "solver.Add(y11+y6+y10>=1)\n",
    "solver.Add(y12+y6+y13>=1)\n",
    "solver.Add(y12+y13+y6+y14>=1)\n",
    "solver.Add(y13+y14+y9>=1)"
   ]
  },
  {
   "cell_type": "code",
   "execution_count": 6,
   "metadata": {},
   "outputs": [],
   "source": [
    "solver.Minimize(y1+y2+y3+y4+y5+y6+y7+y8+y9+y10+y11+y12+y13+y14)"
   ]
  },
  {
   "cell_type": "code",
   "execution_count": 7,
   "metadata": {},
   "outputs": [],
   "source": [
    "status = solver.Solve()"
   ]
  },
  {
   "cell_type": "code",
   "execution_count": 9,
   "metadata": {},
   "outputs": [
    {
     "name": "stdout",
     "output_type": "stream",
     "text": [
      "Solution:\n",
      "Objective value = 4.0\n",
      "y1 = 0.0\n",
      "y2 = 1.0\n",
      "y3 = 0.0\n",
      "y4 = 0.0\n",
      "y5 = 0.0\n",
      "y6 = 0.0\n",
      "y7 = 0.0\n",
      "y8 = 1.0\n",
      "y9 = 0.0\n",
      "y10 = 1.0\n",
      "y11 = 0.0\n",
      "y12 = 0.0\n",
      "y13 = 1.0\n",
      "y14 = 0.0\n"
     ]
    }
   ],
   "source": [
    "if status == pywraplp.Solver.OPTIMAL:\n",
    "        print('Solution:')\n",
    "        print('Objective value =', solver.Objective().Value())\n",
    "        print('y1 =', y1.solution_value())\n",
    "        print('y2 =', y2.solution_value())\n",
    "        print('y3 =', y3.solution_value())\n",
    "        print('y4 =', y4.solution_value())\n",
    "        print('y5 =', y5.solution_value())\n",
    "        print('y6 =', y6.solution_value())\n",
    "        print('y7 =', y7.solution_value())\n",
    "        print('y8 =', y8.solution_value())\n",
    "        print('y9 =', y9.solution_value())\n",
    "        print('y10 =', y10.solution_value())\n",
    "        print('y11 =', y11.solution_value())\n",
    "        print('y12 =', y12.solution_value())\n",
    "        print('y13 =', y13.solution_value())\n",
    "        print('y14 =', y14.solution_value())\n",
    "        "
   ]
  },
  {
   "cell_type": "code",
   "execution_count": null,
   "metadata": {},
   "outputs": [],
   "source": []
  }
 ],
 "metadata": {
  "kernelspec": {
   "display_name": "Python 3",
   "language": "python",
   "name": "python3"
  },
  "language_info": {
   "codemirror_mode": {
    "name": "ipython",
    "version": 3
   },
   "file_extension": ".py",
   "mimetype": "text/x-python",
   "name": "python",
   "nbconvert_exporter": "python",
   "pygments_lexer": "ipython3",
   "version": "3.7.4"
  }
 },
 "nbformat": 4,
 "nbformat_minor": 2
}
